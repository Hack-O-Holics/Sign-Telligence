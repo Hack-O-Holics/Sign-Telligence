{
  "nbformat": 4,
  "nbformat_minor": 0,
  "metadata": {
    "colab": {
      "name": "train.ipynb",
      "provenance": [],
      "collapsed_sections": [],
      "toc_visible": true
    },
    "kernelspec": {
      "name": "python3",
      "display_name": "Python 3"
    },
    "accelerator": "GPU",
    "widgets": {
      "application/vnd.jupyter.widget-state+json": {
        "458bf857bca741798432e3fbd1e97532": {
          "model_module": "@jupyter-widgets/controls",
          "model_name": "HBoxModel",
          "state": {
            "_view_name": "HBoxView",
            "_dom_classes": [],
            "_model_name": "HBoxModel",
            "_view_module": "@jupyter-widgets/controls",
            "_model_module_version": "1.5.0",
            "_view_count": null,
            "_view_module_version": "1.5.0",
            "box_style": "",
            "layout": "IPY_MODEL_bea4d95043b24f2a8cbe48e5f7df3204",
            "_model_module": "@jupyter-widgets/controls",
            "children": [
              "IPY_MODEL_027b9e1ae85240ed9303021497ba9303",
              "IPY_MODEL_52f0d93ce64f4837b0e287f78ad384f5"
            ]
          }
        },
        "bea4d95043b24f2a8cbe48e5f7df3204": {
          "model_module": "@jupyter-widgets/base",
          "model_name": "LayoutModel",
          "state": {
            "_view_name": "LayoutView",
            "grid_template_rows": null,
            "right": null,
            "justify_content": null,
            "_view_module": "@jupyter-widgets/base",
            "overflow": null,
            "_model_module_version": "1.2.0",
            "_view_count": null,
            "flex_flow": null,
            "width": null,
            "min_width": null,
            "border": null,
            "align_items": null,
            "bottom": null,
            "_model_module": "@jupyter-widgets/base",
            "top": null,
            "grid_column": null,
            "overflow_y": null,
            "overflow_x": null,
            "grid_auto_flow": null,
            "grid_area": null,
            "grid_template_columns": null,
            "flex": null,
            "_model_name": "LayoutModel",
            "justify_items": null,
            "grid_row": null,
            "max_height": null,
            "align_content": null,
            "visibility": null,
            "align_self": null,
            "height": null,
            "min_height": null,
            "padding": null,
            "grid_auto_rows": null,
            "grid_gap": null,
            "max_width": null,
            "order": null,
            "_view_module_version": "1.2.0",
            "grid_template_areas": null,
            "object_position": null,
            "object_fit": null,
            "grid_auto_columns": null,
            "margin": null,
            "display": null,
            "left": null
          }
        },
        "027b9e1ae85240ed9303021497ba9303": {
          "model_module": "@jupyter-widgets/controls",
          "model_name": "FloatProgressModel",
          "state": {
            "_view_name": "ProgressView",
            "style": "IPY_MODEL_8bd7707597a84137b4266b4dc659407b",
            "_dom_classes": [],
            "description": "100%",
            "_model_name": "FloatProgressModel",
            "bar_style": "success",
            "max": 14212972,
            "_view_module": "@jupyter-widgets/controls",
            "_model_module_version": "1.5.0",
            "value": 14212972,
            "_view_count": null,
            "_view_module_version": "1.5.0",
            "orientation": "horizontal",
            "min": 0,
            "description_tooltip": null,
            "_model_module": "@jupyter-widgets/controls",
            "layout": "IPY_MODEL_b506698b740f4ea2843cf765049a8ceb"
          }
        },
        "52f0d93ce64f4837b0e287f78ad384f5": {
          "model_module": "@jupyter-widgets/controls",
          "model_name": "HTMLModel",
          "state": {
            "_view_name": "HTMLView",
            "style": "IPY_MODEL_c3e7dd361f434f178305c54d526387ae",
            "_dom_classes": [],
            "description": "",
            "_model_name": "HTMLModel",
            "placeholder": "​",
            "_view_module": "@jupyter-widgets/controls",
            "_model_module_version": "1.5.0",
            "value": " 13.6M/13.6M [01:53&lt;00:00, 125kB/s]",
            "_view_count": null,
            "_view_module_version": "1.5.0",
            "description_tooltip": null,
            "_model_module": "@jupyter-widgets/controls",
            "layout": "IPY_MODEL_178dd8b9399f46428ff926f425a95a67"
          }
        },
        "8bd7707597a84137b4266b4dc659407b": {
          "model_module": "@jupyter-widgets/controls",
          "model_name": "ProgressStyleModel",
          "state": {
            "_view_name": "StyleView",
            "_model_name": "ProgressStyleModel",
            "description_width": "initial",
            "_view_module": "@jupyter-widgets/base",
            "_model_module_version": "1.5.0",
            "_view_count": null,
            "_view_module_version": "1.2.0",
            "bar_color": null,
            "_model_module": "@jupyter-widgets/controls"
          }
        },
        "b506698b740f4ea2843cf765049a8ceb": {
          "model_module": "@jupyter-widgets/base",
          "model_name": "LayoutModel",
          "state": {
            "_view_name": "LayoutView",
            "grid_template_rows": null,
            "right": null,
            "justify_content": null,
            "_view_module": "@jupyter-widgets/base",
            "overflow": null,
            "_model_module_version": "1.2.0",
            "_view_count": null,
            "flex_flow": null,
            "width": null,
            "min_width": null,
            "border": null,
            "align_items": null,
            "bottom": null,
            "_model_module": "@jupyter-widgets/base",
            "top": null,
            "grid_column": null,
            "overflow_y": null,
            "overflow_x": null,
            "grid_auto_flow": null,
            "grid_area": null,
            "grid_template_columns": null,
            "flex": null,
            "_model_name": "LayoutModel",
            "justify_items": null,
            "grid_row": null,
            "max_height": null,
            "align_content": null,
            "visibility": null,
            "align_self": null,
            "height": null,
            "min_height": null,
            "padding": null,
            "grid_auto_rows": null,
            "grid_gap": null,
            "max_width": null,
            "order": null,
            "_view_module_version": "1.2.0",
            "grid_template_areas": null,
            "object_position": null,
            "object_fit": null,
            "grid_auto_columns": null,
            "margin": null,
            "display": null,
            "left": null
          }
        },
        "c3e7dd361f434f178305c54d526387ae": {
          "model_module": "@jupyter-widgets/controls",
          "model_name": "DescriptionStyleModel",
          "state": {
            "_view_name": "StyleView",
            "_model_name": "DescriptionStyleModel",
            "description_width": "",
            "_view_module": "@jupyter-widgets/base",
            "_model_module_version": "1.5.0",
            "_view_count": null,
            "_view_module_version": "1.2.0",
            "_model_module": "@jupyter-widgets/controls"
          }
        },
        "178dd8b9399f46428ff926f425a95a67": {
          "model_module": "@jupyter-widgets/base",
          "model_name": "LayoutModel",
          "state": {
            "_view_name": "LayoutView",
            "grid_template_rows": null,
            "right": null,
            "justify_content": null,
            "_view_module": "@jupyter-widgets/base",
            "overflow": null,
            "_model_module_version": "1.2.0",
            "_view_count": null,
            "flex_flow": null,
            "width": null,
            "min_width": null,
            "border": null,
            "align_items": null,
            "bottom": null,
            "_model_module": "@jupyter-widgets/base",
            "top": null,
            "grid_column": null,
            "overflow_y": null,
            "overflow_x": null,
            "grid_auto_flow": null,
            "grid_area": null,
            "grid_template_columns": null,
            "flex": null,
            "_model_name": "LayoutModel",
            "justify_items": null,
            "grid_row": null,
            "max_height": null,
            "align_content": null,
            "visibility": null,
            "align_self": null,
            "height": null,
            "min_height": null,
            "padding": null,
            "grid_auto_rows": null,
            "grid_gap": null,
            "max_width": null,
            "order": null,
            "_view_module_version": "1.2.0",
            "grid_template_areas": null,
            "object_position": null,
            "object_fit": null,
            "grid_auto_columns": null,
            "margin": null,
            "display": null,
            "left": null
          }
        }
      }
    }
  },
  "cells": [
    {
      "cell_type": "code",
      "metadata": {
        "id": "PnGl9LgEu3-s",
        "colab_type": "code",
        "colab": {
          "base_uri": "https://localhost:8080/",
          "height": 68
        },
        "outputId": "065ae078-9bd3-4878-a8b4-0bff0566970f"
      },
      "source": [
        "!pip install coremltools==4.0b1 --quiet"
      ],
      "execution_count": 1,
      "outputs": [
        {
          "output_type": "stream",
          "text": [
            "\u001b[?25l\r\u001b[K     |▌                               | 10kB 24.3MB/s eta 0:00:01\r\u001b[K     |█                               | 20kB 3.0MB/s eta 0:00:01\r\u001b[K     |█▋                              | 30kB 3.9MB/s eta 0:00:01\r\u001b[K     |██▏                             | 40kB 4.0MB/s eta 0:00:01\r\u001b[K     |██▊                             | 51kB 3.4MB/s eta 0:00:01\r\u001b[K     |███▎                            | 61kB 3.7MB/s eta 0:00:01\r\u001b[K     |███▉                            | 71kB 4.1MB/s eta 0:00:01\r\u001b[K     |████▍                           | 81kB 4.3MB/s eta 0:00:01\r\u001b[K     |█████                           | 92kB 4.7MB/s eta 0:00:01\r\u001b[K     |█████▌                          | 102kB 4.5MB/s eta 0:00:01\r\u001b[K     |██████                          | 112kB 4.5MB/s eta 0:00:01\r\u001b[K     |██████▌                         | 122kB 4.5MB/s eta 0:00:01\r\u001b[K     |███████                         | 133kB 4.5MB/s eta 0:00:01\r\u001b[K     |███████▋                        | 143kB 4.5MB/s eta 0:00:01\r\u001b[K     |████████▏                       | 153kB 4.5MB/s eta 0:00:01\r\u001b[K     |████████▊                       | 163kB 4.5MB/s eta 0:00:01\r\u001b[K     |█████████▎                      | 174kB 4.5MB/s eta 0:00:01\r\u001b[K     |█████████▉                      | 184kB 4.5MB/s eta 0:00:01\r\u001b[K     |██████████▍                     | 194kB 4.5MB/s eta 0:00:01\r\u001b[K     |███████████                     | 204kB 4.5MB/s eta 0:00:01\r\u001b[K     |███████████▌                    | 215kB 4.5MB/s eta 0:00:01\r\u001b[K     |████████████                    | 225kB 4.5MB/s eta 0:00:01\r\u001b[K     |████████████▌                   | 235kB 4.5MB/s eta 0:00:01\r\u001b[K     |█████████████                   | 245kB 4.5MB/s eta 0:00:01\r\u001b[K     |█████████████▋                  | 256kB 4.5MB/s eta 0:00:01\r\u001b[K     |██████████████▏                 | 266kB 4.5MB/s eta 0:00:01\r\u001b[K     |██████████████▊                 | 276kB 4.5MB/s eta 0:00:01\r\u001b[K     |███████████████▎                | 286kB 4.5MB/s eta 0:00:01\r\u001b[K     |███████████████▉                | 296kB 4.5MB/s eta 0:00:01\r\u001b[K     |████████████████▍               | 307kB 4.5MB/s eta 0:00:01\r\u001b[K     |█████████████████               | 317kB 4.5MB/s eta 0:00:01\r\u001b[K     |█████████████████▌              | 327kB 4.5MB/s eta 0:00:01\r\u001b[K     |██████████████████              | 337kB 4.5MB/s eta 0:00:01\r\u001b[K     |██████████████████▌             | 348kB 4.5MB/s eta 0:00:01\r\u001b[K     |███████████████████             | 358kB 4.5MB/s eta 0:00:01\r\u001b[K     |███████████████████▋            | 368kB 4.5MB/s eta 0:00:01\r\u001b[K     |████████████████████▏           | 378kB 4.5MB/s eta 0:00:01\r\u001b[K     |████████████████████▊           | 389kB 4.5MB/s eta 0:00:01\r\u001b[K     |█████████████████████▎          | 399kB 4.5MB/s eta 0:00:01\r\u001b[K     |█████████████████████▉          | 409kB 4.5MB/s eta 0:00:01\r\u001b[K     |██████████████████████▍         | 419kB 4.5MB/s eta 0:00:01\r\u001b[K     |███████████████████████         | 430kB 4.5MB/s eta 0:00:01\r\u001b[K     |███████████████████████▌        | 440kB 4.5MB/s eta 0:00:01\r\u001b[K     |████████████████████████        | 450kB 4.5MB/s eta 0:00:01\r\u001b[K     |████████████████████████▌       | 460kB 4.5MB/s eta 0:00:01\r\u001b[K     |█████████████████████████       | 471kB 4.5MB/s eta 0:00:01\r\u001b[K     |█████████████████████████▋      | 481kB 4.5MB/s eta 0:00:01\r\u001b[K     |██████████████████████████▏     | 491kB 4.5MB/s eta 0:00:01\r\u001b[K     |██████████████████████████▊     | 501kB 4.5MB/s eta 0:00:01\r\u001b[K     |███████████████████████████▎    | 512kB 4.5MB/s eta 0:00:01\r\u001b[K     |███████████████████████████▉    | 522kB 4.5MB/s eta 0:00:01\r\u001b[K     |████████████████████████████▍   | 532kB 4.5MB/s eta 0:00:01\r\u001b[K     |█████████████████████████████   | 542kB 4.5MB/s eta 0:00:01\r\u001b[K     |█████████████████████████████▌  | 552kB 4.5MB/s eta 0:00:01\r\u001b[K     |██████████████████████████████  | 563kB 4.5MB/s eta 0:00:01\r\u001b[K     |██████████████████████████████▌ | 573kB 4.5MB/s eta 0:00:01\r\u001b[K     |███████████████████████████████ | 583kB 4.5MB/s eta 0:00:01\r\u001b[K     |███████████████████████████████▋| 593kB 4.5MB/s eta 0:00:01\r\u001b[K     |████████████████████████████████| 604kB 4.5MB/s \n",
            "\u001b[?25h  Building wheel for coremltools (setup.py) ... \u001b[?25l\u001b[?25hdone\n",
            "  Building wheel for attr (setup.py) ... \u001b[?25l\u001b[?25hdone\n"
          ],
          "name": "stdout"
        }
      ]
    },
    {
      "cell_type": "code",
      "metadata": {
        "id": "TwNqAUt8mxOT",
        "colab_type": "code",
        "colab": {
          "base_uri": "https://localhost:8080/",
          "height": 51
        },
        "outputId": "73936fcb-5af4-4dda-e273-0f2e590312cf"
      },
      "source": [
        "import shutil\n",
        "import coremltools as ct\n",
        "\n",
        "from fastai import *\n",
        "from fastai.vision import *\n",
        "from fastai.metrics import accuracy\n",
        "\n",
        "import warnings\n",
        "warnings.filterwarnings('ignore')"
      ],
      "execution_count": 2,
      "outputs": [
        {
          "output_type": "stream",
          "text": [
            "WARNING:root:scikit-learn version 0.22.2.post1 is not supported. Minimum required version: 0.17. Maximum required version: 0.19.2. Disabling scikit-learn conversion API.\n",
            "WARNING:root:Keras version 2.3.1 detected. Last version known to be fully compatible of Keras is 2.2.4 .\n"
          ],
          "name": "stderr"
        }
      ]
    },
    {
      "cell_type": "markdown",
      "metadata": {
        "id": "zAIdDMfDjjJj",
        "colab_type": "text"
      },
      "source": [
        "## Import Dataset from Kaggle"
      ]
    },
    {
      "cell_type": "code",
      "metadata": {
        "id": "cB1QHbeAh5zo",
        "colab_type": "code",
        "colab": {
          "base_uri": "https://localhost:8080/",
          "height": 309
        },
        "outputId": "c431f362-ab78-4811-de04-56798c0da8a6"
      },
      "source": [
        "!wget -x --load-cookies cookies.txt 'https://www.kaggle.com/ayuraj/american-sign-language-dataset/download' -O data.zip\n",
        "!unzip -q data.zip\n",
        "shutil.rmtree('/content/asl/asl')"
      ],
      "execution_count": 3,
      "outputs": [
        {
          "output_type": "stream",
          "text": [
            "--2020-07-27 00:08:25--  https://www.kaggle.com/ayuraj/american-sign-language-dataset/download\n",
            "Resolving www.kaggle.com (www.kaggle.com)... 35.244.233.98\n",
            "Connecting to www.kaggle.com (www.kaggle.com)|35.244.233.98|:443... connected.\n",
            "HTTP request sent, awaiting response... 302 Found\n",
            "Location: https://storage.googleapis.com/kaggle-data-sets/180288%2F405373%2Fbundle%2Farchive.zip?GoogleAccessId=gcp-kaggle-com@kaggle-161607.iam.gserviceaccount.com&Expires=1596067705&Signature=WTTWMeMr%2BFQGh6u%2FsiVUVhnqdnTABEYm62yVfq4PQ2bNyLyEu2STWsFVFCoUkWsTKUZaDYw%2FnZ4ylyF%2BzIjQ%2FHVBoD5zFxdKsvZAcfosAD3zGCjup8%2BvFqKlZUgVj8ub3DCZDnprZoxpn9nVCBFy37KGUJgTs9bsoZCkaOzO5VU1OukF18zZxAx3ldD%2Fn7LJy%2B2rl%2BxoK4XdHtzUhJWcYMmNeu3KAQuQ6nPgSSnFJmj0VrI8cMKUyIGn47Zgzkok19unIaqYxfFmvaZiroRroRItno1ooMe4T9d4K95SSjjfBqAE0HTd2B%2FCnlMlrowZ%2FQyXDIPynAAYttuYkOElHA%3D%3D [following]\n",
            "--2020-07-27 00:08:25--  https://storage.googleapis.com/kaggle-data-sets/180288%2F405373%2Fbundle%2Farchive.zip?GoogleAccessId=gcp-kaggle-com@kaggle-161607.iam.gserviceaccount.com&Expires=1596067705&Signature=WTTWMeMr%2BFQGh6u%2FsiVUVhnqdnTABEYm62yVfq4PQ2bNyLyEu2STWsFVFCoUkWsTKUZaDYw%2FnZ4ylyF%2BzIjQ%2FHVBoD5zFxdKsvZAcfosAD3zGCjup8%2BvFqKlZUgVj8ub3DCZDnprZoxpn9nVCBFy37KGUJgTs9bsoZCkaOzO5VU1OukF18zZxAx3ldD%2Fn7LJy%2B2rl%2BxoK4XdHtzUhJWcYMmNeu3KAQuQ6nPgSSnFJmj0VrI8cMKUyIGn47Zgzkok19unIaqYxfFmvaZiroRroRItno1ooMe4T9d4K95SSjjfBqAE0HTd2B%2FCnlMlrowZ%2FQyXDIPynAAYttuYkOElHA%3D%3D\n",
            "Resolving storage.googleapis.com (storage.googleapis.com)... 74.125.142.128, 74.125.195.128, 74.125.20.128, ...\n",
            "Connecting to storage.googleapis.com (storage.googleapis.com)|74.125.142.128|:443... connected.\n",
            "HTTP request sent, awaiting response... 200 OK\n",
            "Length: 1299398082 (1.2G) [application/zip]\n",
            "Saving to: ‘data.zip’\n",
            "\n",
            "data.zip            100%[===================>]   1.21G  92.0MB/s    in 14s     \n",
            "\n",
            "2020-07-27 00:08:40 (87.0 MB/s) - ‘data.zip’ saved [1299398082/1299398082]\n",
            "\n"
          ],
          "name": "stdout"
        }
      ]
    },
    {
      "cell_type": "markdown",
      "metadata": {
        "id": "ZNQPo_phjoW0",
        "colab_type": "text"
      },
      "source": [
        "## Train Classifier"
      ]
    },
    {
      "cell_type": "code",
      "metadata": {
        "id": "PvRnt1pkjizk",
        "colab_type": "code",
        "colab": {}
      },
      "source": [
        "batch_size = 64\n",
        "root = '/content/asl'"
      ],
      "execution_count": 4,
      "outputs": []
    },
    {
      "cell_type": "code",
      "metadata": {
        "id": "TBxfl2nnngh2",
        "colab_type": "code",
        "colab": {}
      },
      "source": [
        "files, labels = [], []\n",
        "for r, d, f in os.walk(root):\n",
        "    for i in f:\n",
        "        label = r.split('/')[-1]\n",
        "        files.append(f'{label}/{i}')\n",
        "        labels.append(label)\n",
        "df = pd.DataFrame(list(zip(files, labels)), columns=['name', 'label'])\n",
        "data = ImageDataBunch.from_df(root, df, size=400, bs=batch_size // 2).normalize(imagenet_stats)"
      ],
      "execution_count": 5,
      "outputs": []
    },
    {
      "cell_type": "code",
      "metadata": {
        "id": "lRGuU60RkcP8",
        "colab_type": "code",
        "colab": {
          "base_uri": "https://localhost:8080/",
          "height": 270,
          "referenced_widgets": [
            "458bf857bca741798432e3fbd1e97532",
            "bea4d95043b24f2a8cbe48e5f7df3204",
            "027b9e1ae85240ed9303021497ba9303",
            "52f0d93ce64f4837b0e287f78ad384f5",
            "8bd7707597a84137b4266b4dc659407b",
            "b506698b740f4ea2843cf765049a8ceb",
            "c3e7dd361f434f178305c54d526387ae",
            "178dd8b9399f46428ff926f425a95a67"
          ]
        },
        "outputId": "f6b33034-f2bc-4183-ac0d-72b0b53f530c"
      },
      "source": [
        "classifier = nn.Sequential(\n",
        "    nn.AdaptiveAvgPool2d(output_size=1),\n",
        "    nn.Flatten(),\n",
        "    nn.BatchNorm1d(1280, eps=1e-05, momentum=0.1, affine=True, track_running_stats=True),\n",
        "    nn.Dropout(p=0.25, inplace=False),\n",
        "    nn.Linear(in_features=1280, out_features=512, bias=True),\n",
        "    nn.ReLU(inplace=True),\n",
        "    nn.BatchNorm1d(512, eps=1e-05, momentum=0.1, affine=True, track_running_stats=True),\n",
        "    nn.Dropout(p=0.5, inplace=False),\n",
        "    nn.Linear(in_features=512, out_features=36, bias=True)\n",
        ")\n",
        "\n",
        "learn = cnn_learner(data, models.mobilenet_v2, metrics=accuracy, custom_head=classifier)\n",
        "learn.fit_one_cycle(5)"
      ],
      "execution_count": 6,
      "outputs": [
        {
          "output_type": "stream",
          "text": [
            "Downloading: \"https://download.pytorch.org/models/mobilenet_v2-b0353104.pth\" to /root/.cache/torch/checkpoints/mobilenet_v2-b0353104.pth\n"
          ],
          "name": "stderr"
        },
        {
          "output_type": "display_data",
          "data": {
            "application/vnd.jupyter.widget-view+json": {
              "model_id": "458bf857bca741798432e3fbd1e97532",
              "version_minor": 0,
              "version_major": 2
            },
            "text/plain": [
              "HBox(children=(FloatProgress(value=0.0, max=14212972.0), HTML(value='')))"
            ]
          },
          "metadata": {
            "tags": []
          }
        },
        {
          "output_type": "stream",
          "text": [
            "\n"
          ],
          "name": "stdout"
        },
        {
          "output_type": "display_data",
          "data": {
            "text/html": [
              "<table border=\"1\" class=\"dataframe\">\n",
              "  <thead>\n",
              "    <tr style=\"text-align: left;\">\n",
              "      <th>epoch</th>\n",
              "      <th>train_loss</th>\n",
              "      <th>valid_loss</th>\n",
              "      <th>accuracy</th>\n",
              "      <th>time</th>\n",
              "    </tr>\n",
              "  </thead>\n",
              "  <tbody>\n",
              "    <tr>\n",
              "      <td>0</td>\n",
              "      <td>0.443431</td>\n",
              "      <td>0.172300</td>\n",
              "      <td>0.938513</td>\n",
              "      <td>03:23</td>\n",
              "    </tr>\n",
              "    <tr>\n",
              "      <td>1</td>\n",
              "      <td>0.192343</td>\n",
              "      <td>0.077164</td>\n",
              "      <td>0.976671</td>\n",
              "      <td>03:24</td>\n",
              "    </tr>\n",
              "    <tr>\n",
              "      <td>2</td>\n",
              "      <td>0.086537</td>\n",
              "      <td>0.026561</td>\n",
              "      <td>0.991894</td>\n",
              "      <td>03:23</td>\n",
              "    </tr>\n",
              "    <tr>\n",
              "      <td>3</td>\n",
              "      <td>0.027171</td>\n",
              "      <td>0.006711</td>\n",
              "      <td>0.997825</td>\n",
              "      <td>03:24</td>\n",
              "    </tr>\n",
              "    <tr>\n",
              "      <td>4</td>\n",
              "      <td>0.015318</td>\n",
              "      <td>0.003635</td>\n",
              "      <td>0.999011</td>\n",
              "      <td>03:24</td>\n",
              "    </tr>\n",
              "  </tbody>\n",
              "</table>"
            ],
            "text/plain": [
              "<IPython.core.display.HTML object>"
            ]
          },
          "metadata": {
            "tags": []
          }
        }
      ]
    },
    {
      "cell_type": "markdown",
      "metadata": {
        "id": "re_45uYrsJOb",
        "colab_type": "text"
      },
      "source": [
        "## PyTorch --> CoreML"
      ]
    },
    {
      "cell_type": "code",
      "metadata": {
        "id": "j1RnWnDQzjxT",
        "colab_type": "code",
        "colab": {
          "base_uri": "https://localhost:8080/",
          "height": 68
        },
        "outputId": "837eb476-48d6-4f2d-e492-0e88b0fd46e2"
      },
      "source": [
        "model = learn.model.cpu().eval()\n",
        "example_input = torch.rand(1, 3, 400, 400) \n",
        "traced_model = torch.jit.trace(model, example_input)\n",
        "\n",
        "class_labels = data.classes\n",
        "mlmodel = ct.convert(traced_model,\n",
        "                     inputs=[ct.ImageType(name='input_1', shape=example_input.shape)], \n",
        "                     classifier_config = ct.ClassifierConfig(class_labels))\n",
        "mlmodel.save('MobileNetV2.mlmodel')"
      ],
      "execution_count": 7,
      "outputs": [
        {
          "output_type": "stream",
          "text": [
            "Converting Frontend ==> MIL Ops:  99%|█████████▉| 980/987 [00:08<00:00, 115.75 ops/s]\n",
            "Running MIL optimization passes: 100%|██████████| 13/13 [00:05<00:00,  2.21 passes/s]\n",
            "Translating MIL ==> MLModel Ops: 100%|██████████| 817/817 [00:00<00:00, 2058.64 ops/s]\n"
          ],
          "name": "stderr"
        }
      ]
    }
  ]
}